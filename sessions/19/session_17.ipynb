{
 "cells": [
  {
   "cell_type": "markdown",
   "metadata": {},
   "source": [
    "- Container datatypes [collections](https://docs.python.org/3/library/collections.html)\n",
    "    - Named Tuple\n",
    "    - deque\n",
    "    - defaultdict(int)\n",
    "    - ChainMap\n",
    "    - OrderedDict \n",
    "        - [not redundant even after 3.7](https://stackoverflow.com/questions/50872498/will-ordereddict-become-redundant-in-python-3-7)\n",
    "    - Counter\n"
   ]
  },
  {
   "cell_type": "markdown",
   "metadata": {},
   "source": [
    "# NamedTuple"
   ]
  },
  {
   "cell_type": "code",
   "execution_count": 25,
   "metadata": {},
   "outputs": [
    {
     "name": "stdout",
     "output_type": "stream",
     "text": [
      "18\n",
      "Alexander\n",
      "False\n"
     ]
    },
    {
     "data": {
      "text/plain": [
       "18"
      ]
     },
     "execution_count": 25,
     "metadata": {},
     "output_type": "execute_result"
    }
   ],
   "source": [
    "from  collections import namedtuple\n",
    "Person = namedtuple(\"Pesron\", \"age, name, is_female\")\n",
    "shurik = Person(18, \"Alexander\", False)\n",
    "shurik\n",
    "for i in shurik:\n",
    "    print(i)\n",
    "shurik[1]    \n",
    "shurik.age"
   ]
  },
  {
   "cell_type": "code",
   "execution_count": 2,
   "metadata": {},
   "outputs": [
    {
     "name": "stdout",
     "output_type": "stream",
     "text": [
      "8080\n",
      "65.2\n",
      "Empty\n"
     ]
    },
    {
     "data": {
      "text/plain": [
       "True"
      ]
     },
     "execution_count": 2,
     "metadata": {},
     "output_type": "execute_result"
    }
   ],
   "source": [
    "from typing import NamedTuple, Optional\n",
    "\n",
    "class Component(NamedTuple):\n",
    "    part_number: int\n",
    "    weight: float\n",
    "    description: Optional[str] = \"Empty\"\n",
    "        \n",
    "    def is_http(self):\n",
    "        return True\n",
    "\n",
    "c = Component(8080, 65.2)\n",
    "for i in c:\n",
    "    print(i)\n",
    "c.is_http()"
   ]
  },
  {
   "cell_type": "markdown",
   "metadata": {},
   "source": [
    "- deque\n"
   ]
  },
  {
   "cell_type": "code",
   "execution_count": 9,
   "metadata": {},
   "outputs": [
    {
     "name": "stdout",
     "output_type": "stream",
     "text": [
      "deque([1, 2, 3], maxlen=3)\n",
      "deque([4, 1, 2], maxlen=3)\n",
      "deque([1, 2, 5], maxlen=3)\n",
      "deque([5, 1, 2], maxlen=3)\n",
      "deque([1, 2, 5], maxlen=3)\n",
      "deque([1, 2, 3, 1, 2, 3])\n"
     ]
    }
   ],
   "source": [
    "from collections import deque\n",
    "d = deque([1,2,3], 3)\n",
    "print(d)\n",
    "d.appendleft(4)\n",
    "print(d)\n",
    "d.append(5)\n",
    "print(d)\n",
    "d.rotate(1)\n",
    "print(d)\n",
    "d.rotate(-1)\n",
    "print(d)\n",
    "d1 = deque([1,2,3])\n",
    "d1 = d1 * 2\n",
    "print(d1)"
   ]
  },
  {
   "cell_type": "markdown",
   "metadata": {},
   "source": [
    "- ChainMap\n"
   ]
  },
  {
   "cell_type": "code",
   "execution_count": null,
   "metadata": {},
   "outputs": [],
   "source": []
  },
  {
   "cell_type": "markdown",
   "metadata": {},
   "source": [
    "- OrderedDict \n",
    "    - [not redundant even after 3.7](https://stackoverflow.com/questions/50872498/will-ordereddict-become-redundant-in-python-3-7)\n"
   ]
  },
  {
   "cell_type": "code",
   "execution_count": null,
   "metadata": {},
   "outputs": [],
   "source": []
  },
  {
   "cell_type": "markdown",
   "metadata": {},
   "source": [
    "- Counter\n"
   ]
  },
  {
   "cell_type": "code",
   "execution_count": null,
   "metadata": {},
   "outputs": [],
   "source": []
  },
  {
   "cell_type": "markdown",
   "metadata": {},
   "source": [
    "- in core library:\n",
    "    - [heapq](https://docs.python.org/3.0/library/heapq.html)\n",
    "    - [bisect](https://docs.python.org/3.0/library/bisect.html)\n",
    "    - [array](https://docs.python.org/3.0/library/array.html)\n",
    "    - [queue](https://docs.python.org/3.0/library/queue.html)\n",
    "    - [dataclasses](https://docs.python.org/3/library/dataclasses.html)\n",
    "- External\n",
    "    - [expiringdict](https://github.com/mailgun/expiringdict)\n",
    "    - io.StringIO\n",
    "    - ... what also?"
   ]
  },
  {
   "cell_type": "markdown",
   "metadata": {},
   "source": []
  },
  {
   "cell_type": "code",
   "execution_count": null,
   "metadata": {},
   "outputs": [],
   "source": []
  }
 ],
 "metadata": {
  "kernelspec": {
   "display_name": "Python 3",
   "language": "python",
   "name": "python3"
  },
  "language_info": {
   "codemirror_mode": {
    "name": "ipython",
    "version": 3
   },
   "file_extension": ".py",
   "mimetype": "text/x-python",
   "name": "python",
   "nbconvert_exporter": "python",
   "pygments_lexer": "ipython3",
   "version": "3.6.7"
  }
 },
 "nbformat": 4,
 "nbformat_minor": 2
}
